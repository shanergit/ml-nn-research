{
 "cells": [
  {
   "cell_type": "code",
   "execution_count": 1,
   "metadata": {},
   "outputs": [
    {
     "name": "stderr",
     "output_type": "stream",
     "text": [
      "/opt/anaconda3/lib/python3.9/site-packages/scipy/__init__.py:146: UserWarning: A NumPy version >=1.16.5 and <1.23.0 is required for this version of SciPy (detected version 1.23.0\n",
      "  warnings.warn(f\"A NumPy version >={np_minversion} and <{np_maxversion}\"\n"
     ]
    }
   ],
   "source": [
    "from keras.datasets import mnist;\n",
    "from sklearn.model_selection import train_test_split\n",
    "from keras.models import Sequential\n",
    "from keras.layers import Dense\n",
    "from keras.utils import to_categorical\n",
    "from keras.callbacks import Callback\n",
    "import pandas as pd\n",
    "import numpy as np\n",
    "import matplotlib.pyplot as plt"
   ]
  },
  {
   "cell_type": "code",
   "execution_count": 2,
   "metadata": {},
   "outputs": [],
   "source": [
    "(X_train, y_train), (X_val, y_val) = mnist.load_data()"
   ]
  },
  {
   "cell_type": "code",
   "execution_count": 3,
   "metadata": {},
   "outputs": [
    {
     "data": {
      "text/plain": [
       "(60000, 28, 28)"
      ]
     },
     "execution_count": 3,
     "metadata": {},
     "output_type": "execute_result"
    }
   ],
   "source": [
    "X_train.shape"
   ]
  },
  {
   "cell_type": "code",
   "execution_count": 4,
   "metadata": {},
   "outputs": [
    {
     "data": {
      "text/plain": [
       "(10000, 28, 28)"
      ]
     },
     "execution_count": 4,
     "metadata": {},
     "output_type": "execute_result"
    }
   ],
   "source": [
    "X_val.shape"
   ]
  },
  {
   "cell_type": "code",
   "execution_count": 5,
   "metadata": {},
   "outputs": [
    {
     "data": {
      "text/plain": [
       "(60000,)"
      ]
     },
     "execution_count": 5,
     "metadata": {},
     "output_type": "execute_result"
    }
   ],
   "source": [
    "y_train.shape"
   ]
  },
  {
   "cell_type": "code",
   "execution_count": 6,
   "metadata": {},
   "outputs": [
    {
     "data": {
      "text/plain": [
       "(10000,)"
      ]
     },
     "execution_count": 6,
     "metadata": {},
     "output_type": "execute_result"
    }
   ],
   "source": [
    "y_val.shape"
   ]
  },
  {
   "cell_type": "code",
   "execution_count": 7,
   "metadata": {},
   "outputs": [],
   "source": [
    "# normalize data\n",
    "X_train = X_train.astype('float32')/255\n",
    "X_val = X_val.astype('float32')/255"
   ]
  },
  {
   "cell_type": "code",
   "execution_count": 8,
   "metadata": {},
   "outputs": [],
   "source": [
    "# one-hot-encode labels\n",
    "n_classes = 10\n",
    "y_train = to_categorical(y_train, n_classes)\n",
    "y_val = to_categorical(y_val, n_classes)"
   ]
  },
  {
   "cell_type": "code",
   "execution_count": 9,
   "metadata": {},
   "outputs": [
    {
     "data": {
      "text/plain": [
       "(60000, 28, 28)"
      ]
     },
     "execution_count": 9,
     "metadata": {},
     "output_type": "execute_result"
    }
   ],
   "source": [
    "X_train.shape"
   ]
  },
  {
   "cell_type": "code",
   "execution_count": 10,
   "metadata": {},
   "outputs": [
    {
     "data": {
      "text/plain": [
       "(60000, 10)"
      ]
     },
     "execution_count": 10,
     "metadata": {},
     "output_type": "execute_result"
    }
   ],
   "source": [
    "y_train.shape"
   ]
  },
  {
   "cell_type": "code",
   "execution_count": 11,
   "metadata": {},
   "outputs": [],
   "source": [
    "# flatten data\n",
    "X_train = np.reshape(X_train, (60000, 784))\n",
    "X_val = np.reshape(X_val, (10000, 784))"
   ]
  },
  {
   "cell_type": "markdown",
   "metadata": {},
   "source": [
    "sigmoid - 5 epoch testing"
   ]
  },
  {
   "cell_type": "code",
   "execution_count": 12,
   "metadata": {},
   "outputs": [
    {
     "name": "stdout",
     "output_type": "stream",
     "text": [
      "Metal device set to: Apple M1\n",
      "\n",
      "systemMemory: 8.00 GB\n",
      "maxCacheSize: 2.67 GB\n",
      "\n"
     ]
    },
    {
     "name": "stderr",
     "output_type": "stream",
     "text": [
      "2023-06-07 22:16:27.412337: I tensorflow/core/common_runtime/pluggable_device/pluggable_device_factory.cc:303] Could not identify NUMA node of platform GPU ID 0, defaulting to 0. Your kernel may not have been built with NUMA support.\n",
      "2023-06-07 22:16:27.412521: I tensorflow/core/common_runtime/pluggable_device/pluggable_device_factory.cc:269] Created TensorFlow device (/job:localhost/replica:0/task:0/device:GPU:0 with 0 MB memory) -> physical PluggableDevice (device: 0, name: METAL, pci bus id: <undefined>)\n"
     ]
    }
   ],
   "source": [
    "model_sigmoid5 = Sequential()\n",
    "model_sigmoid5.add(Dense(1000, input_dim=784, activation='sigmoid'))\n",
    "model_sigmoid5.add(Dense(750, activation='sigmoid'))\n",
    "model_sigmoid5.add(Dense(500, activation='sigmoid'))\n",
    "model_sigmoid5.add(Dense(250, activation='sigmoid'))\n",
    "model_sigmoid5.add(Dense(10, activation='softmax'))"
   ]
  },
  {
   "cell_type": "code",
   "execution_count": 13,
   "metadata": {},
   "outputs": [],
   "source": [
    "model_sigmoid5.compile(loss='categorical_crossentropy', optimizer='sgd', metrics=['accuracy'])"
   ]
  },
  {
   "cell_type": "code",
   "execution_count": 14,
   "metadata": {},
   "outputs": [
    {
     "name": "stdout",
     "output_type": "stream",
     "text": [
      "Model: \"sequential\"\n",
      "_________________________________________________________________\n",
      " Layer (type)                Output Shape              Param #   \n",
      "=================================================================\n",
      " dense (Dense)               (None, 1000)              785000    \n",
      "                                                                 \n",
      " dense_1 (Dense)             (None, 750)               750750    \n",
      "                                                                 \n",
      " dense_2 (Dense)             (None, 500)               375500    \n",
      "                                                                 \n",
      " dense_3 (Dense)             (None, 250)               125250    \n",
      "                                                                 \n",
      " dense_4 (Dense)             (None, 10)                2510      \n",
      "                                                                 \n",
      "=================================================================\n",
      "Total params: 2039010 (7.78 MB)\n",
      "Trainable params: 2039010 (7.78 MB)\n",
      "Non-trainable params: 0 (0.00 Byte)\n",
      "_________________________________________________________________\n"
     ]
    }
   ],
   "source": [
    "model_sigmoid5.summary()"
   ]
  },
  {
   "cell_type": "code",
   "execution_count": 15,
   "metadata": {},
   "outputs": [
    {
     "name": "stdout",
     "output_type": "stream",
     "text": [
      "Epoch 1/5\n"
     ]
    },
    {
     "name": "stderr",
     "output_type": "stream",
     "text": [
      "2023-06-07 22:16:27.972090: I tensorflow/core/grappler/optimizers/custom_graph_optimizer_registry.cc:114] Plugin optimizer for device_type GPU is enabled.\n",
      "2023-06-07 22:16:30.665846: I tensorflow/core/grappler/optimizers/custom_graph_optimizer_registry.cc:114] Plugin optimizer for device_type GPU is enabled.\n"
     ]
    },
    {
     "name": "stdout",
     "output_type": "stream",
     "text": [
      "188/188 - 3s - loss: 2.3209 - accuracy: 0.1134 - val_loss: 2.3022 - val_accuracy: 0.1060 - 3s/epoch - 17ms/step\n",
      "Epoch 2/5\n",
      "188/188 - 3s - loss: 2.3015 - accuracy: 0.1121 - val_loss: 2.3015 - val_accuracy: 0.1060 - 3s/epoch - 14ms/step\n",
      "Epoch 3/5\n",
      "188/188 - 3s - loss: 2.3012 - accuracy: 0.1136 - val_loss: 2.3017 - val_accuracy: 0.1060 - 3s/epoch - 15ms/step\n",
      "Epoch 4/5\n",
      "188/188 - 3s - loss: 2.3011 - accuracy: 0.1136 - val_loss: 2.3017 - val_accuracy: 0.1060 - 3s/epoch - 14ms/step\n",
      "Epoch 5/5\n",
      "188/188 - 3s - loss: 2.3008 - accuracy: 0.1130 - val_loss: 2.3022 - val_accuracy: 0.1060 - 3s/epoch - 14ms/step\n"
     ]
    }
   ],
   "source": [
    "n_epochs = 5\n",
    "batch_size = 256\n",
    "validation_split = 0.2\n",
    "hist_sigmoid5 = model_sigmoid5.fit(X_train, y_train, epochs=n_epochs, batch_size=batch_size,\n",
    "                  validation_split=validation_split, verbose=2)"
   ]
  },
  {
   "cell_type": "code",
   "execution_count": 16,
   "metadata": {},
   "outputs": [
    {
     "data": {
      "image/png": "[encoded data removed]",
      "text/plain": [
       "<Figure size 504x360 with 1 Axes>"
      ]
     },
     "metadata": {
      "needs_background": "light"
     },
     "output_type": "display_data"
    }
   ],
   "source": [
    "train_loss=hist_sigmoid5.history['loss']\n",
    "val_loss=hist_sigmoid5.history['val_loss']\n",
    "train_acc=hist_sigmoid5.history['accuracy']\n",
    "val_acc=hist_sigmoid5.history['val_accuracy']\n",
    "xc=range(5)\n",
    "\n",
    "# plt.figure(1,figsize=(7,5))\n",
    "# plt.plot(xc,train_loss)\n",
    "# plt.plot(xc,val_loss)\n",
    "# plt.xlabel('num of Epochs')\n",
    "# plt.ylabel('loss')\n",
    "# plt.title('train_loss vs val_loss')\n",
    "# plt.grid(True)\n",
    "# plt.legend(['train','val'])\n",
    "# print(plt.style.available) # use bmh, classic,ggplot for big pictures\n",
    "# plt.style.use(['classic'])\n",
    "\n",
    "plt.figure(1,figsize=(7,5))\n",
    "plt.plot(xc,train_acc)\n",
    "plt.plot(xc,val_acc)\n",
    "plt.xlabel('num of Epochs')\n",
    "plt.ylabel('accuracy')\n",
    "plt.title('train_acc vs val_acc')\n",
    "plt.grid(True)\n",
    "plt.legend(['train','val'],loc=4)\n",
    "#print plt.style.available # use bmh, classic,ggplot for big pictures\n",
    "plt.style.use(['classic'])"
   ]
  },
  {
   "cell_type": "markdown",
   "metadata": {},
   "source": [
    "relu - 5 epoch testing"
   ]
  },
  {
   "cell_type": "code",
   "execution_count": 17,
   "metadata": {},
   "outputs": [],
   "source": [
    "model_relu5 = Sequential()\n",
    "model_relu5.add(Dense(1000, input_dim=784, activation='relu'))\n",
    "model_relu5.add(Dense(750, activation='relu'))\n",
    "model_relu5.add(Dense(500, activation='relu'))\n",
    "model_relu5.add(Dense(250, activation='relu'))\n",
    "model_relu5.add(Dense(10, activation='softmax'))"
   ]
  },
  {
   "cell_type": "code",
   "execution_count": 18,
   "metadata": {},
   "outputs": [],
   "source": [
    "model_relu5.compile(loss='categorical_crossentropy', optimizer='sgd', metrics=['accuracy'])"
   ]
  },
  {
   "cell_type": "code",
   "execution_count": 19,
   "metadata": {},
   "outputs": [
    {
     "name": "stdout",
     "output_type": "stream",
     "text": [
      "Model: \"sequential_1\"\n",
      "_________________________________________________________________\n",
      " Layer (type)                Output Shape              Param #   \n",
      "=================================================================\n",
      " dense_5 (Dense)             (None, 1000)              785000    \n",
      "                                                                 \n",
      " dense_6 (Dense)             (None, 750)               750750    \n",
      "                                                                 \n",
      " dense_7 (Dense)             (None, 500)               375500    \n",
      "                                                                 \n",
      " dense_8 (Dense)             (None, 250)               125250    \n",
      "                                                                 \n",
      " dense_9 (Dense)             (None, 10)                2510      \n",
      "                                                                 \n",
      "=================================================================\n",
      "Total params: 2039010 (7.78 MB)\n",
      "Trainable params: 2039010 (7.78 MB)\n",
      "Non-trainable params: 0 (0.00 Byte)\n",
      "_________________________________________________________________\n"
     ]
    }
   ],
   "source": [
    "model_relu5.summary()"
   ]
  },
  {
   "cell_type": "code",
   "execution_count": 20,
   "metadata": {},
   "outputs": [
    {
     "name": "stdout",
     "output_type": "stream",
     "text": [
      "Epoch 1/5\n"
     ]
    },
    {
     "name": "stderr",
     "output_type": "stream",
     "text": [
      "2023-06-07 22:16:42.373785: I tensorflow/core/grappler/optimizers/custom_graph_optimizer_registry.cc:114] Plugin optimizer for device_type GPU is enabled.\n",
      "2023-06-07 22:16:44.960624: I tensorflow/core/grappler/optimizers/custom_graph_optimizer_registry.cc:114] Plugin optimizer for device_type GPU is enabled.\n"
     ]
    },
    {
     "name": "stdout",
     "output_type": "stream",
     "text": [
      "188/188 - 3s - loss: 1.8686 - accuracy: 0.5495 - val_loss: 1.1750 - val_accuracy: 0.7872 - 3s/epoch - 17ms/step\n",
      "Epoch 2/5\n",
      "188/188 - 3s - loss: 0.7809 - accuracy: 0.8317 - val_loss: 0.5172 - val_accuracy: 0.8754 - 3s/epoch - 17ms/step\n",
      "Epoch 3/5\n",
      "188/188 - 3s - loss: 0.4683 - accuracy: 0.8791 - val_loss: 0.3833 - val_accuracy: 0.8986 - 3s/epoch - 16ms/step\n",
      "Epoch 4/5\n",
      "188/188 - 3s - loss: 0.3782 - accuracy: 0.8958 - val_loss: 0.3338 - val_accuracy: 0.9088 - 3s/epoch - 15ms/step\n",
      "Epoch 5/5\n",
      "188/188 - 3s - loss: 0.3339 - accuracy: 0.9053 - val_loss: 0.2997 - val_accuracy: 0.9138 - 3s/epoch - 15ms/step\n"
     ]
    }
   ],
   "source": [
    "n_epochs = 5\n",
    "batch_size = 256\n",
    "validation_split = 0.2\n",
    "hist_relu5 = model_relu5.fit(X_train, y_train, epochs=n_epochs, batch_size=batch_size,\n",
    "                  validation_split=validation_split, verbose=2)"
   ]
  },
  {
   "cell_type": "code",
   "execution_count": 21,
   "metadata": {},
   "outputs": [
    {
     "data": {
      "image/png": "[encoded data removed]",
      "text/plain": [
       "<Figure size 560x400 with 1 Axes>"
      ]
     },
     "metadata": {},
     "output_type": "display_data"
    }
   ],
   "source": [
    "train_loss=hist_relu5.history['loss']\n",
    "val_loss=hist_relu5.history['val_loss']\n",
    "train_acc=hist_relu5.history['accuracy']\n",
    "val_acc=hist_relu5.history['val_accuracy']\n",
    "xc=range(5)\n",
    "\n",
    "# plt.figure(1,figsize=(7,5))\n",
    "# plt.plot(xc,train_loss)\n",
    "# plt.plot(xc,val_loss)\n",
    "# plt.xlabel('num of Epochs')\n",
    "# plt.ylabel('loss')\n",
    "# plt.title('train_loss vs val_loss')\n",
    "# plt.grid(True)\n",
    "# plt.legend(['train','val'])\n",
    "# print(plt.style.available) # use bmh, classic,ggplot for big pictures\n",
    "# plt.style.use(['classic'])\n",
    "\n",
    "plt.figure(2,figsize=(7,5))\n",
    "plt.plot(xc,train_acc)\n",
    "plt.plot(xc,val_acc)\n",
    "plt.xlabel('num of Epochs')\n",
    "plt.ylabel('accuracy')\n",
    "plt.title('train_acc vs val_acc')\n",
    "plt.grid(True)\n",
    "plt.legend(['train','val'],loc=4)\n",
    "#print plt.style.available # use bmh, classic,ggplot for big pictures\n",
    "plt.style.use(['classic'])"
   ]
  },
  {
   "cell_type": "markdown",
   "metadata": {},
   "source": [
    "sigmoid  - 10 epoch testing"
   ]
  },
  {
   "cell_type": "code",
   "execution_count": 22,
   "metadata": {},
   "outputs": [],
   "source": [
    "model_sigmoid10 = Sequential()\n",
    "model_sigmoid10.add(Dense(1000, input_dim=784, activation='sigmoid'))\n",
    "model_sigmoid10.add(Dense(750, activation='sigmoid'))\n",
    "model_sigmoid10.add(Dense(500, activation='sigmoid'))\n",
    "model_sigmoid10.add(Dense(250, activation='sigmoid'))\n",
    "model_sigmoid10.add(Dense(10, activation='softmax'))"
   ]
  },
  {
   "cell_type": "code",
   "execution_count": 23,
   "metadata": {},
   "outputs": [],
   "source": [
    "model_sigmoid10.compile(loss='categorical_crossentropy', optimizer='sgd', metrics=['accuracy'])"
   ]
  },
  {
   "cell_type": "code",
   "execution_count": 24,
   "metadata": {},
   "outputs": [
    {
     "name": "stdout",
     "output_type": "stream",
     "text": [
      "Model: \"sequential_2\"\n",
      "_________________________________________________________________\n",
      " Layer (type)                Output Shape              Param #   \n",
      "=================================================================\n",
      " dense_10 (Dense)            (None, 1000)              785000    \n",
      "                                                                 \n",
      " dense_11 (Dense)            (None, 750)               750750    \n",
      "                                                                 \n",
      " dense_12 (Dense)            (None, 500)               375500    \n",
      "                                                                 \n",
      " dense_13 (Dense)            (None, 250)               125250    \n",
      "                                                                 \n",
      " dense_14 (Dense)            (None, 10)                2510      \n",
      "                                                                 \n",
      "=================================================================\n",
      "Total params: 2039010 (7.78 MB)\n",
      "Trainable params: 2039010 (7.78 MB)\n",
      "Non-trainable params: 0 (0.00 Byte)\n",
      "_________________________________________________________________\n"
     ]
    }
   ],
   "source": [
    "model_sigmoid10.summary()"
   ]
  },
  {
   "cell_type": "code",
   "execution_count": 25,
   "metadata": {},
   "outputs": [
    {
     "name": "stdout",
     "output_type": "stream",
     "text": [
      "Epoch 1/10\n"
     ]
    },
    {
     "name": "stderr",
     "output_type": "stream",
     "text": [
      "2023-06-07 22:16:57.748712: I tensorflow/core/grappler/optimizers/custom_graph_optimizer_registry.cc:114] Plugin optimizer for device_type GPU is enabled.\n",
      "2023-06-07 22:17:00.597569: I tensorflow/core/grappler/optimizers/custom_graph_optimizer_registry.cc:114] Plugin optimizer for device_type GPU is enabled.\n"
     ]
    },
    {
     "name": "stdout",
     "output_type": "stream",
     "text": [
      "188/188 - 3s - loss: 2.3063 - accuracy: 0.1123 - val_loss: 2.3027 - val_accuracy: 0.1060 - 3s/epoch - 18ms/step\n",
      "Epoch 2/10\n",
      "188/188 - 3s - loss: 2.3018 - accuracy: 0.1131 - val_loss: 2.3022 - val_accuracy: 0.1060 - 3s/epoch - 16ms/step\n",
      "Epoch 3/10\n",
      "188/188 - 3s - loss: 2.3016 - accuracy: 0.1135 - val_loss: 2.3026 - val_accuracy: 0.1060 - 3s/epoch - 15ms/step\n",
      "Epoch 4/10\n",
      "188/188 - 3s - loss: 2.3013 - accuracy: 0.1145 - val_loss: 2.3017 - val_accuracy: 0.1060 - 3s/epoch - 16ms/step\n",
      "Epoch 5/10\n",
      "188/188 - 3s - loss: 2.3012 - accuracy: 0.1140 - val_loss: 2.3013 - val_accuracy: 0.1060 - 3s/epoch - 15ms/step\n",
      "Epoch 6/10\n",
      "188/188 - 3s - loss: 2.3009 - accuracy: 0.1130 - val_loss: 2.3017 - val_accuracy: 0.1060 - 3s/epoch - 15ms/step\n",
      "Epoch 7/10\n",
      "188/188 - 3s - loss: 2.3007 - accuracy: 0.1132 - val_loss: 2.3013 - val_accuracy: 0.1060 - 3s/epoch - 15ms/step\n",
      "Epoch 8/10\n",
      "188/188 - 3s - loss: 2.3005 - accuracy: 0.1142 - val_loss: 2.3014 - val_accuracy: 0.1060 - 3s/epoch - 15ms/step\n",
      "Epoch 9/10\n",
      "188/188 - 3s - loss: 2.3004 - accuracy: 0.1143 - val_loss: 2.3003 - val_accuracy: 0.1060 - 3s/epoch - 15ms/step\n",
      "Epoch 10/10\n",
      "188/188 - 3s - loss: 2.3000 - accuracy: 0.1147 - val_loss: 2.3006 - val_accuracy: 0.1060 - 3s/epoch - 15ms/step\n"
     ]
    }
   ],
   "source": [
    "n_epochs = 10\n",
    "batch_size = 256\n",
    "validation_split = 0.2\n",
    "hist_sigmoid10 = model_sigmoid10.fit(X_train, y_train, epochs=n_epochs, batch_size=batch_size,\n",
    "                  validation_split=validation_split, verbose=2)"
   ]
  },
  {
   "cell_type": "code",
   "execution_count": 26,
   "metadata": {},
   "outputs": [
    {
     "data": {
      "image/png": "[encoded data removed]",
      "text/plain": [
       "<Figure size 560x400 with 1 Axes>"
      ]
     },
     "metadata": {},
     "output_type": "display_data"
    }
   ],
   "source": [
    "train_loss=hist_sigmoid10.history['loss']\n",
    "val_loss=hist_sigmoid10.history['val_loss']\n",
    "train_acc=hist_sigmoid10.history['accuracy']\n",
    "val_acc=hist_sigmoid10.history['val_accuracy']\n",
    "xc=range(10)\n",
    "\n",
    "# plt.figure(1,figsize=(7,5))\n",
    "# plt.plot(xc,train_loss)\n",
    "# plt.plot(xc,val_loss)\n",
    "# plt.xlabel('num of Epochs')\n",
    "# plt.ylabel('loss')\n",
    "# plt.title('train_loss vs val_loss')\n",
    "# plt.grid(True)\n",
    "# plt.legend(['train','val'])\n",
    "# print(plt.style.available) # use bmh, classic,ggplot for big pictures\n",
    "# plt.style.use(['classic'])\n",
    "\n",
    "plt.figure(3,figsize=(7,5))\n",
    "plt.plot(xc,train_acc)\n",
    "plt.plot(xc,val_acc)\n",
    "plt.xlabel('num of Epochs')\n",
    "plt.ylabel('accuracy')\n",
    "plt.title('train_acc vs val_acc')\n",
    "plt.grid(True)\n",
    "plt.legend(['train','val'],loc=4)\n",
    "#print plt.style.available # use bmh, classic,ggplot for big pictures\n",
    "plt.style.use(['classic'])"
   ]
  },
  {
   "cell_type": "markdown",
   "metadata": {},
   "source": [
    "relu - 10 epoch testing"
   ]
  },
  {
   "cell_type": "code",
   "execution_count": 27,
   "metadata": {},
   "outputs": [],
   "source": [
    "model_relu10 = Sequential()\n",
    "model_relu10.add(Dense(1000, input_dim=784, activation='relu'))\n",
    "model_relu10.add(Dense(750, activation='relu'))\n",
    "model_relu10.add(Dense(500, activation='relu'))\n",
    "model_relu10.add(Dense(250, activation='relu'))\n",
    "model_relu10.add(Dense(10, activation='softmax'))"
   ]
  },
  {
   "cell_type": "code",
   "execution_count": 28,
   "metadata": {},
   "outputs": [],
   "source": [
    "model_relu10.compile(loss='categorical_crossentropy', optimizer='sgd', metrics=['accuracy'])"
   ]
  },
  {
   "cell_type": "code",
   "execution_count": 29,
   "metadata": {},
   "outputs": [
    {
     "name": "stdout",
     "output_type": "stream",
     "text": [
      "Model: \"sequential_3\"\n",
      "_________________________________________________________________\n",
      " Layer (type)                Output Shape              Param #   \n",
      "=================================================================\n",
      " dense_15 (Dense)            (None, 1000)              785000    \n",
      "                                                                 \n",
      " dense_16 (Dense)            (None, 750)               750750    \n",
      "                                                                 \n",
      " dense_17 (Dense)            (None, 500)               375500    \n",
      "                                                                 \n",
      " dense_18 (Dense)            (None, 250)               125250    \n",
      "                                                                 \n",
      " dense_19 (Dense)            (None, 10)                2510      \n",
      "                                                                 \n",
      "=================================================================\n",
      "Total params: 2039010 (7.78 MB)\n",
      "Trainable params: 2039010 (7.78 MB)\n",
      "Non-trainable params: 0 (0.00 Byte)\n",
      "_________________________________________________________________\n"
     ]
    }
   ],
   "source": [
    "model_relu10.summary()"
   ]
  },
  {
   "cell_type": "code",
   "execution_count": 30,
   "metadata": {},
   "outputs": [
    {
     "name": "stdout",
     "output_type": "stream",
     "text": [
      "Epoch 1/10\n"
     ]
    },
    {
     "name": "stderr",
     "output_type": "stream",
     "text": [
      "2023-06-07 22:17:27.101675: I tensorflow/core/grappler/optimizers/custom_graph_optimizer_registry.cc:114] Plugin optimizer for device_type GPU is enabled.\n",
      "2023-06-07 22:17:29.819045: I tensorflow/core/grappler/optimizers/custom_graph_optimizer_registry.cc:114] Plugin optimizer for device_type GPU is enabled.\n"
     ]
    },
    {
     "name": "stdout",
     "output_type": "stream",
     "text": [
      "188/188 - 3s - loss: 1.7959 - accuracy: 0.5871 - val_loss: 1.0642 - val_accuracy: 0.7968 - 3s/epoch - 17ms/step\n",
      "Epoch 2/10\n",
      "188/188 - 3s - loss: 0.7237 - accuracy: 0.8379 - val_loss: 0.4904 - val_accuracy: 0.8815 - 3s/epoch - 16ms/step\n",
      "Epoch 3/10\n",
      "188/188 - 3s - loss: 0.4520 - accuracy: 0.8828 - val_loss: 0.3716 - val_accuracy: 0.8998 - 3s/epoch - 15ms/step\n",
      "Epoch 4/10\n",
      "188/188 - 3s - loss: 0.3721 - accuracy: 0.8982 - val_loss: 0.3290 - val_accuracy: 0.9070 - 3s/epoch - 15ms/step\n",
      "Epoch 5/10\n",
      "188/188 - 3s - loss: 0.3314 - accuracy: 0.9068 - val_loss: 0.2955 - val_accuracy: 0.9178 - 3s/epoch - 16ms/step\n",
      "Epoch 6/10\n",
      "188/188 - 3s - loss: 0.3039 - accuracy: 0.9144 - val_loss: 0.2727 - val_accuracy: 0.9229 - 3s/epoch - 15ms/step\n",
      "Epoch 7/10\n",
      "188/188 - 3s - loss: 0.2834 - accuracy: 0.9203 - val_loss: 0.2586 - val_accuracy: 0.9270 - 3s/epoch - 15ms/step\n",
      "Epoch 8/10\n",
      "188/188 - 3s - loss: 0.2666 - accuracy: 0.9244 - val_loss: 0.2442 - val_accuracy: 0.9312 - 3s/epoch - 15ms/step\n",
      "Epoch 9/10\n",
      "188/188 - 3s - loss: 0.2524 - accuracy: 0.9291 - val_loss: 0.2438 - val_accuracy: 0.9284 - 3s/epoch - 15ms/step\n",
      "Epoch 10/10\n",
      "188/188 - 3s - loss: 0.2398 - accuracy: 0.9322 - val_loss: 0.2272 - val_accuracy: 0.9365 - 3s/epoch - 15ms/step\n"
     ]
    }
   ],
   "source": [
    "n_epochs = 10\n",
    "batch_size = 256\n",
    "validation_split = 0.2\n",
    "hist_relu10 = model_relu10.fit(X_train, y_train, epochs=n_epochs, batch_size=batch_size,\n",
    "                  validation_split=validation_split, verbose=2)"
   ]
  },
  {
   "cell_type": "code",
   "execution_count": 31,
   "metadata": {},
   "outputs": [
    {
     "data": {
      "image/png": "[encoded data removed]",
      "text/plain": [
       "<Figure size 560x400 with 1 Axes>"
      ]
     },
     "metadata": {},
     "output_type": "display_data"
    }
   ],
   "source": [
    "train_loss=hist_relu10.history['loss']\n",
    "val_loss=hist_relu10.history['val_loss']\n",
    "train_acc=hist_relu10.history['accuracy']\n",
    "val_acc=hist_relu10.history['val_accuracy']\n",
    "xc=range(10)\n",
    "\n",
    "# plt.figure(1,figsize=(7,5))\n",
    "# plt.plot(xc,train_loss)\n",
    "# plt.plot(xc,val_loss)\n",
    "# plt.xlabel('num of Epochs')\n",
    "# plt.ylabel('loss')\n",
    "# plt.title('train_loss vs val_loss')\n",
    "# plt.grid(True)\n",
    "# plt.legend(['train','val'])\n",
    "# print(plt.style.available) # use bmh, classic,ggplot for big pictures\n",
    "# plt.style.use(['classic'])\n",
    "\n",
    "plt.figure(4,figsize=(7,5))\n",
    "plt.plot(xc,train_acc)\n",
    "plt.plot(xc,val_acc)\n",
    "plt.xlabel('num of Epochs')\n",
    "plt.ylabel('accuracy')\n",
    "plt.title('train_acc vs val_acc')\n",
    "plt.grid(True)\n",
    "plt.legend(['train','val'],loc=4)\n",
    "#print plt.style.available # use bmh, classic,ggplot for big pictures\n",
    "plt.style.use(['classic'])"
   ]
  }
 ],
 "metadata": {
  "kernelspec": {
   "display_name": "Python 3 (ipykernel)",
   "language": "python",
   "name": "python3"
  },
  "language_info": {
   "codemirror_mode": {
    "name": "ipython",
    "version": 3
   },
   "file_extension": ".py",
   "mimetype": "text/x-python",
   "name": "python",
   "nbconvert_exporter": "python",
   "pygments_lexer": "ipython3",
   "version": "3.9.12"
  }
 },
 "nbformat": 4,
 "nbformat_minor": 2
}
