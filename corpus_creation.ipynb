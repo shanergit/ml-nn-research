{
 "cells": [
  {
   "cell_type": "code",
   "execution_count": 2,
   "metadata": {},
   "outputs": [],
   "source": [
    "import os\n",
    "import docx2txt\n",
    "import pandas as pd\n",
    "import codecs"
   ]
  },
  {
   "cell_type": "code",
   "execution_count": 4,
   "metadata": {},
   "outputs": [],
   "source": [
    "#set working directory\n",
    "os.chdir('/Users/shaner/Documents/nlp_docs')\n",
    "\n",
    "\n",
    "#Lists to store file name and body of text\n",
    "file_name=[]\n",
    "text=[]\n",
    "\n",
    "for file in os.listdir('.'):\n",
    "    if file.endswith('txt'):\n",
    "        with codecs.open(file, 'r', encoding='utf-8',errors='ignore') as fdata:\n",
    "            contents = fdata.read()\n",
    "            text.append(contents)\n",
    "            file_name.append(file)\n",
    "\n",
    "\n",
    "#create dictionary for corpus\n",
    "corpus={'DSI_Title':file_name, 'Text': text}\n",
    "\n",
    "c1 = pd.DataFrame(corpus) \n",
    "\n",
    "\n",
    "#function to retreive and turn document into text\n",
    "def retrieve_DSI(file_name):\n",
    "    file_name=str(file_name)\n",
    "    text = docx2txt.process(file_name)\n",
    "    return text\n",
    "\n",
    "\n",
    "#Lists to store file name and body of text\n",
    "file_name=[]\n",
    "text=[]\n",
    "\n",
    "\n",
    "#for loop to iterate through documents in working directory\n",
    "for file in os.listdir('.'):\n",
    "    #if statment to not attempt to open non word documents\n",
    "    if file.endswith('.docx'):\n",
    "        text_name=file\n",
    "        #call function to obtain the text\n",
    "        text_body=retrieve_DSI(file)\n",
    "        #apped the file names and text to list\n",
    "        file_name.append(text_name)\n",
    "        text.append(text_body)\n",
    "        #removed the variables used in the for loop\n",
    "        del text_name, text_body, file\n",
    "\n",
    "\n",
    "#create dictionary for corpus\n",
    "corpus={'DSI_Title':file_name, 'Text': text}\n",
    "\n",
    "\n",
    "#output a CSV with containing the class corpus along with titles of corpus.  \n",
    "#file saved in working directory.\n",
    "\n",
    "c2 = pd.DataFrame(corpus)\n",
    "\n",
    "c_final = pd.concat([c1, c2], axis = 0)\n",
    "\n",
    "c_final.to_csv('nlp_corpus.csv', index = True,  encoding=\"utf-8-sig\")"
   ]
  }
 ],
 "metadata": {
  "kernelspec": {
   "display_name": "Python 3 (ipykernel)",
   "language": "python",
   "name": "python3"
  },
  "language_info": {
   "codemirror_mode": {
    "name": "ipython",
    "version": 3
   },
   "file_extension": ".py",
   "mimetype": "text/x-python",
   "name": "python",
   "nbconvert_exporter": "python",
   "pygments_lexer": "ipython3",
   "version": "3.9.12"
  }
 },
 "nbformat": 4,
 "nbformat_minor": 2
}
